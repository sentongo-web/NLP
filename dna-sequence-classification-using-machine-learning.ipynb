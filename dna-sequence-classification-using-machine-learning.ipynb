{
 "cells": [
  {
   "cell_type": "markdown",
   "id": "2c9f38ba",
   "metadata": {},
   "source": [
    "PAUL SENTONGO"
   ]
  },
  {
   "cell_type": "code",
   "execution_count": 14,
   "id": "19e6a83a",
   "metadata": {
    "_cell_guid": "b1076dfc-b9ad-4769-8c92-a6c4dae69d19",
    "_uuid": "8f2839f25d086af736a60e9eeb907d3b93b6e0e5",
    "execution": {
     "iopub.execute_input": "2023-10-24T10:38:53.896155Z",
     "iopub.status.busy": "2023-10-24T10:38:53.895760Z",
     "iopub.status.idle": "2023-10-24T10:38:54.307759Z",
     "shell.execute_reply": "2023-10-24T10:38:54.305848Z"
    },
    "papermill": {
     "duration": 0.426542,
     "end_time": "2023-10-24T10:38:54.312205",
     "exception": false,
     "start_time": "2023-10-24T10:38:53.885663",
     "status": "completed"
    },
    "tags": []
   },
   "outputs": [],
   "source": [
    "# This Python 3 environment comes with many helpful analytics libraries installed\n",
    "# It is defined by the kaggle/python Docker image: https://github.com/kaggle/docker-python\n",
    "# For example, here's several helpful packages to load\n",
    "\n",
    "import numpy as np # linear algebra\n",
    "import pandas as pd # data processing, CSV file I/O (e.g. pd.read_csv)\n",
    "\n",
    "# Input data files are available in the read-only \"../input/\" directory\n",
    "# For example, running this (by clicking run or pressing Shift+Enter) will list all files under the input directory\n",
    "\n",
    "import os\n",
    "for dirname, _, filenames in os.walk('/kaggle/input'):\n",
    "    for filename in filenames:\n",
    "        print(os.path.join(dirname, filename))\n",
    "\n",
    "# You can write up to 20GB to the current directory (/kaggle/working/) that gets preserved as output when you create a version using \"Save & Run All\" \n",
    "# You can also write temporary files to /kaggle/temp/, but they won't be saved outside of the current session"
   ]
  },
  {
   "cell_type": "markdown",
   "id": "15df1f46",
   "metadata": {
    "papermill": {
     "duration": 0.00778,
     "end_time": "2023-10-24T10:38:54.328438",
     "exception": false,
     "start_time": "2023-10-24T10:38:54.320658",
     "status": "completed"
    },
    "tags": []
   },
   "source": [
    "DNA sequence classification is a task of predicting the class of a DNA sequence, given its nucleotide sequence. This is a challenging task, as DNA sequences are very long and complex. However, machine learning algorithms can be used to learn patterns in DNA sequences and classify them with high accuracy.\n",
    "\n",
    "This project aims to develop a machine learning model to classify DNA sequences from humans, chimpanzees, and dogs. The dataset for this project will consist of DNA sequences from all three species, labeled with their corresponding species."
   ]
  },
  {
   "cell_type": "markdown",
   "id": "c0582981",
   "metadata": {
    "papermill": {
     "duration": 0.007786,
     "end_time": "2023-10-24T10:38:54.344267",
     "exception": false,
     "start_time": "2023-10-24T10:38:54.336481",
     "status": "completed"
    },
    "tags": []
   },
   "source": [
    "# Import Libraries "
   ]
  },
  {
   "cell_type": "code",
   "execution_count": 15,
   "id": "f073c34d",
   "metadata": {
    "execution": {
     "iopub.execute_input": "2023-10-24T10:38:54.363073Z",
     "iopub.status.busy": "2023-10-24T10:38:54.361777Z",
     "iopub.status.idle": "2023-10-24T10:38:55.782555Z",
     "shell.execute_reply": "2023-10-24T10:38:55.781287Z"
    },
    "papermill": {
     "duration": 1.433005,
     "end_time": "2023-10-24T10:38:55.785443",
     "exception": false,
     "start_time": "2023-10-24T10:38:54.352438",
     "status": "completed"
    },
    "tags": []
   },
   "outputs": [],
   "source": [
    "import numpy as np \n",
    "import pandas as pd\n",
    "import matplotlib.pyplot as plt \n",
    "import plotly.graph_objects as go\n",
    "\n",
    "import Bio\n",
    "from Bio.Seq import Seq\n",
    "\n",
    "from Bio import SeqIO\n",
    "from collections import Counter\n",
    "import glob\n",
    "import os\n",
    "from sklearn.model_selection import train_test_split\n"
   ]
  },
  {
   "cell_type": "markdown",
   "id": "d9377926",
   "metadata": {
    "papermill": {
     "duration": 0.008264,
     "end_time": "2023-10-24T10:38:55.801993",
     "exception": false,
     "start_time": "2023-10-24T10:38:55.793729",
     "status": "completed"
    },
    "tags": []
   },
   "source": [
    "# Read the DNA text file into a DataFrame"
   ]
  },
  {
   "cell_type": "code",
   "execution_count": 16,
   "id": "6adc550c",
   "metadata": {
    "execution": {
     "iopub.execute_input": "2023-10-24T10:38:55.822324Z",
     "iopub.status.busy": "2023-10-24T10:38:55.821616Z",
     "iopub.status.idle": "2023-10-24T10:38:56.007848Z",
     "shell.execute_reply": "2023-10-24T10:38:56.006990Z"
    },
    "papermill": {
     "duration": 0.199865,
     "end_time": "2023-10-24T10:38:56.010076",
     "exception": false,
     "start_time": "2023-10-24T10:38:55.810211",
     "status": "completed"
    },
    "tags": []
   },
   "outputs": [
    {
     "data": {
      "text/html": [
       "<div>\n",
       "<style scoped>\n",
       "    .dataframe tbody tr th:only-of-type {\n",
       "        vertical-align: middle;\n",
       "    }\n",
       "\n",
       "    .dataframe tbody tr th {\n",
       "        vertical-align: top;\n",
       "    }\n",
       "\n",
       "    .dataframe thead th {\n",
       "        text-align: right;\n",
       "    }\n",
       "</style>\n",
       "<table border=\"1\" class=\"dataframe\">\n",
       "  <thead>\n",
       "    <tr style=\"text-align: right;\">\n",
       "      <th></th>\n",
       "      <th>sequence</th>\n",
       "      <th>class</th>\n",
       "    </tr>\n",
       "  </thead>\n",
       "  <tbody>\n",
       "    <tr>\n",
       "      <th>0</th>\n",
       "      <td>ATGCCCCAACTAAATACTACCGTATGGCCCACCATAATTACCCCCA...</td>\n",
       "      <td>4</td>\n",
       "    </tr>\n",
       "    <tr>\n",
       "      <th>1</th>\n",
       "      <td>ATGAACGAAAATCTGTTCGCTTCATTCATTGCCCCCACAATCCTAG...</td>\n",
       "      <td>4</td>\n",
       "    </tr>\n",
       "    <tr>\n",
       "      <th>2</th>\n",
       "      <td>ATGTGTGGCATTTGGGCGCTGTTTGGCAGTGATGATTGCCTTTCTG...</td>\n",
       "      <td>3</td>\n",
       "    </tr>\n",
       "    <tr>\n",
       "      <th>3</th>\n",
       "      <td>ATGTGTGGCATTTGGGCGCTGTTTGGCAGTGATGATTGCCTTTCTG...</td>\n",
       "      <td>3</td>\n",
       "    </tr>\n",
       "    <tr>\n",
       "      <th>4</th>\n",
       "      <td>ATGCAACAGCATTTTGAATTTGAATACCAGACCAAAGTGGATGGTG...</td>\n",
       "      <td>3</td>\n",
       "    </tr>\n",
       "  </tbody>\n",
       "</table>\n",
       "</div>"
      ],
      "text/plain": [
       "                                            sequence  class\n",
       "0  ATGCCCCAACTAAATACTACCGTATGGCCCACCATAATTACCCCCA...      4\n",
       "1  ATGAACGAAAATCTGTTCGCTTCATTCATTGCCCCCACAATCCTAG...      4\n",
       "2  ATGTGTGGCATTTGGGCGCTGTTTGGCAGTGATGATTGCCTTTCTG...      3\n",
       "3  ATGTGTGGCATTTGGGCGCTGTTTGGCAGTGATGATTGCCTTTCTG...      3\n",
       "4  ATGCAACAGCATTTTGAATTTGAATACCAGACCAAAGTGGATGGTG...      3"
      ]
     },
     "execution_count": 16,
     "metadata": {},
     "output_type": "execute_result"
    }
   ],
   "source": [
    "# Read the text file into a DataFrame\n",
    "human_df=pd.read_table('human.txt')\n",
    "human_df.head()"
   ]
  },
  {
   "cell_type": "code",
   "execution_count": 17,
   "id": "ae7e5ab7",
   "metadata": {
    "execution": {
     "iopub.execute_input": "2023-10-24T10:38:56.029234Z",
     "iopub.status.busy": "2023-10-24T10:38:56.028136Z",
     "iopub.status.idle": "2023-10-24T10:38:56.137442Z",
     "shell.execute_reply": "2023-10-24T10:38:56.136160Z"
    },
    "papermill": {
     "duration": 0.121157,
     "end_time": "2023-10-24T10:38:56.139737",
     "exception": false,
     "start_time": "2023-10-24T10:38:56.018580",
     "status": "completed"
    },
    "tags": []
   },
   "outputs": [
    {
     "data": {
      "text/html": [
       "<div>\n",
       "<style scoped>\n",
       "    .dataframe tbody tr th:only-of-type {\n",
       "        vertical-align: middle;\n",
       "    }\n",
       "\n",
       "    .dataframe tbody tr th {\n",
       "        vertical-align: top;\n",
       "    }\n",
       "\n",
       "    .dataframe thead th {\n",
       "        text-align: right;\n",
       "    }\n",
       "</style>\n",
       "<table border=\"1\" class=\"dataframe\">\n",
       "  <thead>\n",
       "    <tr style=\"text-align: right;\">\n",
       "      <th></th>\n",
       "      <th>sequence</th>\n",
       "      <th>class</th>\n",
       "    </tr>\n",
       "  </thead>\n",
       "  <tbody>\n",
       "    <tr>\n",
       "      <th>0</th>\n",
       "      <td>ATGCCCCAACTAAATACCGCCGTATGACCCACCATAATTACCCCCA...</td>\n",
       "      <td>4</td>\n",
       "    </tr>\n",
       "    <tr>\n",
       "      <th>1</th>\n",
       "      <td>ATGAACGAAAATCTATTCGCTTCATTCGCTGCCCCCACAATCCTAG...</td>\n",
       "      <td>4</td>\n",
       "    </tr>\n",
       "    <tr>\n",
       "      <th>2</th>\n",
       "      <td>ATGGCCTCGCGCTGGTGGCGGTGGCGACGCGGCTGCTCCTGGAGGC...</td>\n",
       "      <td>4</td>\n",
       "    </tr>\n",
       "    <tr>\n",
       "      <th>3</th>\n",
       "      <td>ATGGCCTCGCGCTGGTGGCGGTGGCGACGCGGCTGCTCCTGGAGGC...</td>\n",
       "      <td>4</td>\n",
       "    </tr>\n",
       "    <tr>\n",
       "      <th>4</th>\n",
       "      <td>ATGGGCAGCGCCAGCCCGGGTCTGAGCAGCGTGTCCCCCAGCCACC...</td>\n",
       "      <td>6</td>\n",
       "    </tr>\n",
       "  </tbody>\n",
       "</table>\n",
       "</div>"
      ],
      "text/plain": [
       "                                            sequence  class\n",
       "0  ATGCCCCAACTAAATACCGCCGTATGACCCACCATAATTACCCCCA...      4\n",
       "1  ATGAACGAAAATCTATTCGCTTCATTCGCTGCCCCCACAATCCTAG...      4\n",
       "2  ATGGCCTCGCGCTGGTGGCGGTGGCGACGCGGCTGCTCCTGGAGGC...      4\n",
       "3  ATGGCCTCGCGCTGGTGGCGGTGGCGACGCGGCTGCTCCTGGAGGC...      4\n",
       "4  ATGGGCAGCGCCAGCCCGGGTCTGAGCAGCGTGTCCCCCAGCCACC...      6"
      ]
     },
     "execution_count": 17,
     "metadata": {},
     "output_type": "execute_result"
    }
   ],
   "source": [
    "# Read the text file into a DataFrame\n",
    "chimpanzee_df=pd.read_table('chimpanzee.txt')\n",
    "chimpanzee_df.head()"
   ]
  },
  {
   "cell_type": "code",
   "execution_count": 18,
   "id": "080c4bfb",
   "metadata": {
    "execution": {
     "iopub.execute_input": "2023-10-24T10:38:56.159391Z",
     "iopub.status.busy": "2023-10-24T10:38:56.158345Z",
     "iopub.status.idle": "2023-10-24T10:38:56.227292Z",
     "shell.execute_reply": "2023-10-24T10:38:56.225670Z"
    },
    "papermill": {
     "duration": 0.081525,
     "end_time": "2023-10-24T10:38:56.229890",
     "exception": false,
     "start_time": "2023-10-24T10:38:56.148365",
     "status": "completed"
    },
    "tags": []
   },
   "outputs": [
    {
     "data": {
      "text/html": [
       "<div>\n",
       "<style scoped>\n",
       "    .dataframe tbody tr th:only-of-type {\n",
       "        vertical-align: middle;\n",
       "    }\n",
       "\n",
       "    .dataframe tbody tr th {\n",
       "        vertical-align: top;\n",
       "    }\n",
       "\n",
       "    .dataframe thead th {\n",
       "        text-align: right;\n",
       "    }\n",
       "</style>\n",
       "<table border=\"1\" class=\"dataframe\">\n",
       "  <thead>\n",
       "    <tr style=\"text-align: right;\">\n",
       "      <th></th>\n",
       "      <th>sequence</th>\n",
       "      <th>class</th>\n",
       "    </tr>\n",
       "  </thead>\n",
       "  <tbody>\n",
       "    <tr>\n",
       "      <th>0</th>\n",
       "      <td>ATGCCACAGCTAGATACATCCACCTGATTTATTATAATCTTTTCAA...</td>\n",
       "      <td>4</td>\n",
       "    </tr>\n",
       "    <tr>\n",
       "      <th>1</th>\n",
       "      <td>ATGAACGAAAATCTATTCGCTTCTTTCGCTGCCCCCTCAATAATAG...</td>\n",
       "      <td>4</td>\n",
       "    </tr>\n",
       "    <tr>\n",
       "      <th>2</th>\n",
       "      <td>ATGGAAACACCCTTCTACGGCGATGAGGCGCTGAGCGGCCTGGGCG...</td>\n",
       "      <td>6</td>\n",
       "    </tr>\n",
       "    <tr>\n",
       "      <th>3</th>\n",
       "      <td>ATGTGCACTAAAATGGAACAGCCCTTCTACCACGACGACTCATACG...</td>\n",
       "      <td>6</td>\n",
       "    </tr>\n",
       "    <tr>\n",
       "      <th>4</th>\n",
       "      <td>ATGAGCCGGCAGCTAAACAGAAGCCAGAACTGCTCCTTCAGTGACG...</td>\n",
       "      <td>0</td>\n",
       "    </tr>\n",
       "  </tbody>\n",
       "</table>\n",
       "</div>"
      ],
      "text/plain": [
       "                                            sequence  class\n",
       "0  ATGCCACAGCTAGATACATCCACCTGATTTATTATAATCTTTTCAA...      4\n",
       "1  ATGAACGAAAATCTATTCGCTTCTTTCGCTGCCCCCTCAATAATAG...      4\n",
       "2  ATGGAAACACCCTTCTACGGCGATGAGGCGCTGAGCGGCCTGGGCG...      6\n",
       "3  ATGTGCACTAAAATGGAACAGCCCTTCTACCACGACGACTCATACG...      6\n",
       "4  ATGAGCCGGCAGCTAAACAGAAGCCAGAACTGCTCCTTCAGTGACG...      0"
      ]
     },
     "execution_count": 18,
     "metadata": {},
     "output_type": "execute_result"
    }
   ],
   "source": [
    "# Read the text file into a DataFrame\n",
    "dog_df=pd.read_table('dog.txt')\n",
    "dog_df.head()"
   ]
  },
  {
   "cell_type": "markdown",
   "id": "328953e7",
   "metadata": {
    "papermill": {
     "duration": 0.008891,
     "end_time": "2023-10-24T10:38:56.248066",
     "exception": false,
     "start_time": "2023-10-24T10:38:56.239175",
     "status": "completed"
    },
    "tags": []
   },
   "source": [
    "# Let's see the percentage of presence of each class in the Human Dataframe "
   ]
  },
  {
   "cell_type": "code",
   "execution_count": 19,
   "id": "1717c658",
   "metadata": {
    "execution": {
     "iopub.execute_input": "2023-10-24T10:38:56.267154Z",
     "iopub.status.busy": "2023-10-24T10:38:56.266736Z",
     "iopub.status.idle": "2023-10-24T10:38:56.611258Z",
     "shell.execute_reply": "2023-10-24T10:38:56.610135Z"
    },
    "papermill": {
     "duration": 0.357278,
     "end_time": "2023-10-24T10:38:56.614072",
     "exception": false,
     "start_time": "2023-10-24T10:38:56.256794",
     "status": "completed"
    },
    "tags": []
   },
   "outputs": [
    {
     "data": {
      "image/png": "[encoded data removed]",
      "text/plain": [
       "<Figure size 1000x600 with 1 Axes>"
      ]
     },
     "metadata": {},
     "output_type": "display_data"
    }
   ],
   "source": [
    "# Get the unique classes\n",
    "classes = human_df['class'].unique()\n",
    "\n",
    "# Count the number of sequences in each class\n",
    "class_counts = human_df['class'].value_counts()\n",
    "\n",
    "# Calculate the percentage of the presence of each class\n",
    "class_percentages = class_counts / class_counts.sum() * 100\n",
    "\n",
    "# Create a pie chart of the class percentages\n",
    "plt.figure(figsize=(10, 6))\n",
    "plt.pie(class_percentages, labels=classes, autopct=\"%1.1f%%\")\n",
    "\n",
    "# Customize the pie chart design\n",
    "plt.title(\"Percentage of Presence of Each Class in Human_df Data Frame\", fontweight=\"bold\")\n",
    "plt.xlabel(\"Class\")\n",
    "plt.ylabel(\"Percentage\")\n",
    "plt.axis(\"equal\")  # Equal aspect ratio ensures that the pie chart is circular.\n",
    "plt.legend(title=\"Classes\", loc=\"upper left\", bbox_to_anchor=(0.05, 0.95))\n",
    "\n",
    "# Set the pie chart colors\n",
    "plt.gca().set_prop_cycle(plt.cycler('color', ['#1f77b4', '#ff7f0e', '#2ca02c', '#d62728']))\n",
    "\n",
    "# Add a grid\n",
    "plt.grid(True, color='lightgray', linestyle='--')\n",
    "\n",
    "# Display the pie chart\n",
    "plt.show()"
   ]
  },
  {
   "cell_type": "markdown",
   "id": "1eb93b6b",
   "metadata": {
    "papermill": {
     "duration": 0.009144,
     "end_time": "2023-10-24T10:38:56.632642",
     "exception": false,
     "start_time": "2023-10-24T10:38:56.623498",
     "status": "completed"
    },
    "tags": []
   },
   "source": [
    "# Comparing the Classes in the 3 Dataframe"
   ]
  },
  {
   "cell_type": "code",
   "execution_count": 20,
   "id": "e6acfe35",
   "metadata": {
    "execution": {
     "iopub.execute_input": "2023-10-24T10:38:56.654845Z",
     "iopub.status.busy": "2023-10-24T10:38:56.653614Z",
     "iopub.status.idle": "2023-10-24T10:38:57.216126Z",
     "shell.execute_reply": "2023-10-24T10:38:57.215142Z"
    },
    "papermill": {
     "duration": 0.576284,
     "end_time": "2023-10-24T10:38:57.218419",
     "exception": false,
     "start_time": "2023-10-24T10:38:56.642135",
     "status": "completed"
    },
    "tags": []
   },
   "outputs": [
    {
     "data": {
      "image/png": "[encoded data removed]",
      "text/plain": [
       "<Figure size 1500x500 with 3 Axes>"
      ]
     },
     "metadata": {},
     "output_type": "display_data"
    }
   ],
   "source": [
    "\n",
    "# Create a figure with three subplots\n",
    "fig, axes = plt.subplots(1, 3, figsize=(15, 5))\n",
    "\n",
    "# Get the unique classes in each data frame\n",
    "human_classes = human_df['class'].unique()\n",
    "chimpanzee_classes = chimpanzee_df['class'].unique()\n",
    "dog_classes = dog_df['class'].unique()\n",
    "\n",
    "# Count the number of sequences in each class in each data frame\n",
    "human_class_counts = human_df['class'].value_counts()\n",
    "chimpanzee_class_counts = chimpanzee_df['class'].value_counts()\n",
    "dog_class_counts = dog_df['class'].value_counts()\n",
    "\n",
    "# Calculate the percentage of the presence of each class in each data frame\n",
    "human_class_percentages = human_class_counts / human_class_counts.sum() * 100\n",
    "chimpanzee_class_percentages = chimpanzee_class_counts / chimpanzee_class_counts.sum() * 100\n",
    "dog_class_percentages = dog_class_counts / dog_class_counts.sum() * 100\n",
    "\n",
    "# Create pie charts of the class percentages in each subplot\n",
    "axes[0].pie(human_class_percentages, labels=human_classes, autopct=\"%1.1f%%\")\n",
    "axes[1].pie(chimpanzee_class_percentages, labels=chimpanzee_classes, autopct=\"%1.1f%%\")\n",
    "axes[2].pie(dog_class_percentages, labels=dog_classes, autopct=\"%1.1f%%\")\n",
    "\n",
    "# Customize the pie chart design\n",
    "axes[0].set_title(\"Human\")\n",
    "axes[1].set_title(\"Chimpanzee\")\n",
    "axes[2].set_title(\"Dog\")\n",
    "\n",
    "# Adjust the subplot layout\n",
    "plt.tight_layout()\n",
    "\n",
    "# Display the pie charts\n",
    "plt.show()"
   ]
  },
  {
   "cell_type": "code",
   "execution_count": 21,
   "id": "a0e69269",
   "metadata": {
    "execution": {
     "iopub.execute_input": "2023-10-24T10:38:57.243440Z",
     "iopub.status.busy": "2023-10-24T10:38:57.241541Z",
     "iopub.status.idle": "2023-10-24T10:38:58.014669Z",
     "shell.execute_reply": "2023-10-24T10:38:58.013240Z"
    },
    "papermill": {
     "duration": 0.788627,
     "end_time": "2023-10-24T10:38:58.018141",
     "exception": false,
     "start_time": "2023-10-24T10:38:57.229514",
     "status": "completed"
    },
    "tags": []
   },
   "outputs": [
    {
     "data": {
      "image/png": "[encoded data removed]",
      "text/plain": [
       "<Figure size 1500x500 with 3 Axes>"
      ]
     },
     "metadata": {},
     "output_type": "display_data"
    }
   ],
   "source": [
    "# Create a figure with three subplots\n",
    "fig, axes = plt.subplots(1, 3, figsize=(15, 5))\n",
    "\n",
    "# Create bar charts of the class percentages in each subplot\n",
    "axes[0].bar(human_classes, human_class_percentages)\n",
    "axes[1].bar(chimpanzee_classes, chimpanzee_class_percentages)\n",
    "axes[2].bar(dog_classes, dog_class_percentages)\n",
    "\n",
    "# Customize the bar chart design\n",
    "axes[0].set_title(\"Human\")\n",
    "axes[1].set_title(\"Chimpanzee\")\n",
    "axes[2].set_title(\"Dog\")\n",
    "\n",
    "# Adjust the subplot layout\n",
    "plt.tight_layout()\n",
    "\n",
    "# Display the bar charts\n",
    "plt.show()"
   ]
  },
  {
   "cell_type": "markdown",
   "id": "1c7fd0d7",
   "metadata": {
    "papermill": {
     "duration": 0.010928,
     "end_time": "2023-10-24T10:38:58.040499",
     "exception": false,
     "start_time": "2023-10-24T10:38:58.029571",
     "status": "completed"
    },
    "tags": []
   },
   "source": [
    "# Top 10 6-Kmers and Their Percentage in the human_df"
   ]
  },
  {
   "cell_type": "markdown",
   "id": "1e2c3094",
   "metadata": {},
   "source": [
    "A K-mer (kmer) is a string of DNA when tokenized (e.g. 2 Kmer: TC, 3 kmer: AGC)\n",
    "\n",
    "Another form of tokenizing"
   ]
  },
  {
   "cell_type": "code",
   "execution_count": 22,
   "id": "6a7ee2c1",
   "metadata": {
    "execution": {
     "iopub.execute_input": "2023-10-24T10:38:58.065289Z",
     "iopub.status.busy": "2023-10-24T10:38:58.064083Z",
     "iopub.status.idle": "2023-10-24T10:39:00.599660Z",
     "shell.execute_reply": "2023-10-24T10:39:00.598408Z"
    },
    "papermill": {
     "duration": 2.550487,
     "end_time": "2023-10-24T10:39:00.602179",
     "exception": false,
     "start_time": "2023-10-24T10:38:58.051692",
     "status": "completed"
    },
    "tags": []
   },
   "outputs": [
    {
     "name": "stdout",
     "output_type": "stream",
     "text": [
      "Top 10 6-Kmers and Their Percentage\n",
      "----------------------------------\n",
      "CAGCAG: 0.1%\n",
      "CTGCTG: 0.1%\n",
      "AGAAGA: 0.1%\n",
      "CTGGAG: 0.1%\n",
      "GAAGAA: 0.1%\n",
      "CTGCAG: 0.1%\n",
      "GAGGAG: 0.1%\n",
      "AAGAAG: 0.1%\n",
      "CCTGGA: 0.1%\n",
      "GGAGGA: 0.1%\n"
     ]
    }
   ],
   "source": [
    "# Get the DNA sequences in the human_df data frame\n",
    "sequences = human_df['sequence'].tolist()\n",
    "\n",
    "# Create a dictionary to store the 6-kmers and their counts\n",
    "kmer_counts = {}\n",
    "\n",
    "# Iterate over the DNA sequences\n",
    "for sequence in sequences:\n",
    "\n",
    "    # Split the DNA sequence into 6-kmers\n",
    "    kmers = [sequence[i:i+6] for i in range(0, len(sequence) - 5, 1)]\n",
    "\n",
    "    # Add the 6-kmers to the dictionary\n",
    "    for kmer in kmers:\n",
    "        if kmer in kmer_counts:\n",
    "            kmer_counts[kmer] += 1\n",
    "        else:\n",
    "            kmer_counts[kmer] = 1\n",
    "\n",
    "# Sort the 6-kmers by their counts in descending order\n",
    "sorted_kmers = sorted(kmer_counts.items(), key=lambda x: x[1], reverse=True)\n",
    "\n",
    "# Get the top 10 6-kmers\n",
    "top_10_kmers = sorted_kmers[:10]\n",
    "\n",
    "# Calculate the percentage of the presence of each 6-kmer\n",
    "top_10_kmer_percentages = [kmer[1] / sum(kmer_counts.values()) * 100 for kmer in top_10_kmers]\n",
    "\n",
    "# Print the top 10 6-kmers and their percentage\n",
    "print(\"Top 10 6-Kmers and Their Percentage\")\n",
    "print(\"----------------------------------\")\n",
    "for i in range(len(top_10_kmers)):\n",
    "    print(f\"{top_10_kmers[i][0]}: {top_10_kmer_percentages[i]:.1f}%\")"
   ]
  },
  {
   "cell_type": "markdown",
   "id": "61cab5c3",
   "metadata": {
    "papermill": {
     "duration": 0.010813,
     "end_time": "2023-10-24T10:39:00.624273",
     "exception": false,
     "start_time": "2023-10-24T10:39:00.613460",
     "status": "completed"
    },
    "tags": []
   },
   "source": [
    "* Define a function to collect all possible overlapping k-mers ,  k-mer as a short word that is extracted from a sequence string. Overlapping k-mers are created by sliding a window of a certain size over the sequence string, one character at a time. The convert_to_kmers() function converts a list of sequence strings into a list of lists of overlapping k-mers of a specified length. \n",
    "* To convert training data sequences into short overlapping k-mers of length 6, we can use the following code:\n",
    "\n"
   ]
  },
  {
   "cell_type": "code",
   "execution_count": 23,
   "id": "18acba31",
   "metadata": {
    "execution": {
     "iopub.execute_input": "2023-10-24T10:39:00.651456Z",
     "iopub.status.busy": "2023-10-24T10:39:00.650189Z",
     "iopub.status.idle": "2023-10-24T10:39:03.877516Z",
     "shell.execute_reply": "2023-10-24T10:39:03.876259Z"
    },
    "papermill": {
     "duration": 3.243609,
     "end_time": "2023-10-24T10:39:03.880019",
     "exception": false,
     "start_time": "2023-10-24T10:39:00.636410",
     "status": "completed"
    },
    "tags": []
   },
   "outputs": [
    {
     "data": {
      "text/html": [
       "<div>\n",
       "<style scoped>\n",
       "    .dataframe tbody tr th:only-of-type {\n",
       "        vertical-align: middle;\n",
       "    }\n",
       "\n",
       "    .dataframe tbody tr th {\n",
       "        vertical-align: top;\n",
       "    }\n",
       "\n",
       "    .dataframe thead th {\n",
       "        text-align: right;\n",
       "    }\n",
       "</style>\n",
       "<table border=\"1\" class=\"dataframe\">\n",
       "  <thead>\n",
       "    <tr style=\"text-align: right;\">\n",
       "      <th></th>\n",
       "      <th>class</th>\n",
       "      <th>words</th>\n",
       "    </tr>\n",
       "  </thead>\n",
       "  <tbody>\n",
       "    <tr>\n",
       "      <th>0</th>\n",
       "      <td>4</td>\n",
       "      <td>[atgccc, tgcccc, gcccca, ccccaa, cccaac, ccaac...</td>\n",
       "    </tr>\n",
       "    <tr>\n",
       "      <th>1</th>\n",
       "      <td>4</td>\n",
       "      <td>[atgaac, tgaacg, gaacga, aacgaa, acgaaa, cgaaa...</td>\n",
       "    </tr>\n",
       "    <tr>\n",
       "      <th>2</th>\n",
       "      <td>3</td>\n",
       "      <td>[atgtgt, tgtgtg, gtgtgg, tgtggc, gtggca, tggca...</td>\n",
       "    </tr>\n",
       "    <tr>\n",
       "      <th>3</th>\n",
       "      <td>3</td>\n",
       "      <td>[atgtgt, tgtgtg, gtgtgg, tgtggc, gtggca, tggca...</td>\n",
       "    </tr>\n",
       "    <tr>\n",
       "      <th>4</th>\n",
       "      <td>3</td>\n",
       "      <td>[atgcaa, tgcaac, gcaaca, caacag, aacagc, acagc...</td>\n",
       "    </tr>\n",
       "    <tr>\n",
       "      <th>...</th>\n",
       "      <td>...</td>\n",
       "      <td>...</td>\n",
       "    </tr>\n",
       "    <tr>\n",
       "      <th>4375</th>\n",
       "      <td>0</td>\n",
       "      <td>[atggaa, tggaag, ggaaga, gaagat, aagatt, agatt...</td>\n",
       "    </tr>\n",
       "    <tr>\n",
       "      <th>4376</th>\n",
       "      <td>6</td>\n",
       "      <td>[atgcag, tgcagt, gcagtc, cagtcc, agtcct, gtcct...</td>\n",
       "    </tr>\n",
       "    <tr>\n",
       "      <th>4377</th>\n",
       "      <td>6</td>\n",
       "      <td>[atgcag, tgcagt, gcagtc, cagtcc, agtcct, gtcct...</td>\n",
       "    </tr>\n",
       "    <tr>\n",
       "      <th>4378</th>\n",
       "      <td>6</td>\n",
       "      <td>[atgggg, tggggc, ggggca, gggcac, ggcacc, gcacc...</td>\n",
       "    </tr>\n",
       "    <tr>\n",
       "      <th>4379</th>\n",
       "      <td>6</td>\n",
       "      <td>[atgcag, tgcagt, gcagtc, cagtcc, agtcct, gtcct...</td>\n",
       "    </tr>\n",
       "  </tbody>\n",
       "</table>\n",
       "<p>4380 rows × 2 columns</p>\n",
       "</div>"
      ],
      "text/plain": [
       "      class                                              words\n",
       "0         4  [atgccc, tgcccc, gcccca, ccccaa, cccaac, ccaac...\n",
       "1         4  [atgaac, tgaacg, gaacga, aacgaa, acgaaa, cgaaa...\n",
       "2         3  [atgtgt, tgtgtg, gtgtgg, tgtggc, gtggca, tggca...\n",
       "3         3  [atgtgt, tgtgtg, gtgtgg, tgtggc, gtggca, tggca...\n",
       "4         3  [atgcaa, tgcaac, gcaaca, caacag, aacagc, acagc...\n",
       "...     ...                                                ...\n",
       "4375      0  [atggaa, tggaag, ggaaga, gaagat, aagatt, agatt...\n",
       "4376      6  [atgcag, tgcagt, gcagtc, cagtcc, agtcct, gtcct...\n",
       "4377      6  [atgcag, tgcagt, gcagtc, cagtcc, agtcct, gtcct...\n",
       "4378      6  [atgggg, tggggc, ggggca, gggcac, ggcacc, gcacc...\n",
       "4379      6  [atgcag, tgcagt, gcagtc, cagtcc, agtcct, gtcct...\n",
       "\n",
       "[4380 rows x 2 columns]"
      ]
     },
     "execution_count": 23,
     "metadata": {},
     "output_type": "execute_result"
    }
   ],
   "source": [
    "def getKmers(sequence, size=6):\n",
    "    return [sequence[x:x+size].lower() for x in range(len(sequence) - size + 1)]\n",
    "\n",
    "human_df['words'] = human_df.apply(lambda x: getKmers(x['sequence']), axis=1)\n",
    "human_df = human_df.drop('sequence', axis=1)\n",
    "\n",
    "chimpanzee_df['words'] = chimpanzee_df.apply(lambda x: getKmers(x['sequence']), axis=1)\n",
    "chimpanzee_df = chimpanzee_df.drop('sequence', axis=1)\n",
    "\n",
    "dog_df['words'] = dog_df.apply(lambda x: getKmers(x['sequence']), axis=1)\n",
    "dog_df = dog_df.drop('sequence', axis=1)\n",
    "\n",
    "human_df"
   ]
  },
  {
   "cell_type": "markdown",
   "id": "19413eb5",
   "metadata": {
    "papermill": {
     "duration": 0.01264,
     "end_time": "2023-10-24T10:39:03.905105",
     "exception": false,
     "start_time": "2023-10-24T10:39:03.892465",
     "status": "completed"
    },
    "tags": []
   },
   "source": [
    "*  We need to convert the lists of k-mers for each gene into string sentences of words that can be used to create the Bag of Words model. "
   ]
  },
  {
   "cell_type": "code",
   "execution_count": 24,
   "id": "6f61a4c2",
   "metadata": {
    "execution": {
     "iopub.execute_input": "2023-10-24T10:39:03.932183Z",
     "iopub.status.busy": "2023-10-24T10:39:03.931784Z",
     "iopub.status.idle": "2023-10-24T10:39:04.072993Z",
     "shell.execute_reply": "2023-10-24T10:39:04.071738Z"
    },
    "papermill": {
     "duration": 0.158261,
     "end_time": "2023-10-24T10:39:04.075740",
     "exception": false,
     "start_time": "2023-10-24T10:39:03.917479",
     "status": "completed"
    },
    "tags": []
   },
   "outputs": [],
   "source": [
    "human_texts = list(human_df['words'])\n",
    "for item in range(len(human_texts)):\n",
    "    human_texts[item] = ' '.join(human_texts[item])\n",
    "y_data = human_df.iloc[:, 0].values "
   ]
  },
  {
   "cell_type": "code",
   "execution_count": 25,
   "id": "dee41c5f",
   "metadata": {
    "execution": {
     "iopub.execute_input": "2023-10-24T10:39:04.102894Z",
     "iopub.status.busy": "2023-10-24T10:39:04.102447Z",
     "iopub.status.idle": "2023-10-24T10:39:04.226020Z",
     "shell.execute_reply": "2023-10-24T10:39:04.225121Z"
    },
    "papermill": {
     "duration": 0.139169,
     "end_time": "2023-10-24T10:39:04.228428",
     "exception": false,
     "start_time": "2023-10-24T10:39:04.089259",
     "status": "completed"
    },
    "tags": []
   },
   "outputs": [],
   "source": [
    "chimp_texts = list(chimpanzee_df['words'])\n",
    "for item in range(len(chimp_texts)):\n",
    "    chimp_texts[item] = ' '.join(chimp_texts[item])\n",
    "y_chimp = chimpanzee_df.iloc[:, 0].values                      \n",
    "\n",
    "dog_texts = list(dog_df['words'])\n",
    "for item in range(len(dog_texts)):\n",
    "    dog_texts[item] = ' '.join(dog_texts[item])\n",
    "y_dog = dog_df.iloc[:, 0].values"
   ]
  },
  {
   "cell_type": "markdown",
   "id": "0f91a03c",
   "metadata": {
    "papermill": {
     "duration": 0.011132,
     "end_time": "2023-10-24T10:39:04.251136",
     "exception": false,
     "start_time": "2023-10-24T10:39:04.240004",
     "status": "completed"
    },
    "tags": []
   },
   "source": [
    "\n",
    "* An n-gram is a sequence of n consecutive words or tokens. In the context of natural language processing (NLP), n-grams are used to capture the context of words in a sentence. For example, the 2-gram \"I love\" is more informative than the unigram \"I\" because it tells us that the word \"I\" is often followed by the word \"love\"."
   ]
  },
  {
   "cell_type": "markdown",
   "id": "3bb69c91",
   "metadata": {
    "papermill": {
     "duration": 0.011137,
     "end_time": "2023-10-24T10:39:04.273878",
     "exception": false,
     "start_time": "2023-10-24T10:39:04.262741",
     "status": "completed"
    },
    "tags": []
   },
   "source": [
    "* In this case, we are setting the ngram_range to (4, 4). This means that the CountVectorizer will create features for all 4-grams (sequences of 4 consecutive words) in the text."
   ]
  },
  {
   "cell_type": "code",
   "execution_count": 26,
   "id": "d4b473a9",
   "metadata": {
    "execution": {
     "iopub.execute_input": "2023-10-24T10:39:04.299213Z",
     "iopub.status.busy": "2023-10-24T10:39:04.298160Z",
     "iopub.status.idle": "2023-10-24T10:39:21.062645Z",
     "shell.execute_reply": "2023-10-24T10:39:21.061417Z"
    },
    "papermill": {
     "duration": 16.780028,
     "end_time": "2023-10-24T10:39:21.065446",
     "exception": false,
     "start_time": "2023-10-24T10:39:04.285418",
     "status": "completed"
    },
    "tags": []
   },
   "outputs": [],
   "source": [
    "from sklearn.feature_extraction.text import CountVectorizer\n",
    "cv = CountVectorizer(ngram_range=(4,4))\n",
    "X = cv.fit_transform(human_texts)\n",
    "X_chimp = cv.transform(chimp_texts)\n",
    "X_dog = cv.transform(dog_texts)"
   ]
  },
  {
   "cell_type": "markdown",
   "id": "059cebab",
   "metadata": {
    "papermill": {
     "duration": 0.011259,
     "end_time": "2023-10-24T10:39:21.088493",
     "exception": false,
     "start_time": "2023-10-24T10:39:21.077234",
     "status": "completed"
    },
    "tags": []
   },
   "source": [
    "* We will use the human data to train a machine learning model to predict sequence function. We will train the model on 80% of the human data and then evaluate its performance on the remaining 20% of the data."
   ]
  },
  {
   "cell_type": "code",
   "execution_count": 27,
   "id": "58c4c4ca",
   "metadata": {
    "execution": {
     "iopub.execute_input": "2023-10-24T10:39:21.175138Z",
     "iopub.status.busy": "2023-10-24T10:39:21.173921Z",
     "iopub.status.idle": "2023-10-24T10:39:21.212241Z",
     "shell.execute_reply": "2023-10-24T10:39:21.211142Z"
    },
    "papermill": {
     "duration": 0.054156,
     "end_time": "2023-10-24T10:39:21.214914",
     "exception": false,
     "start_time": "2023-10-24T10:39:21.160758",
     "status": "completed"
    },
    "tags": []
   },
   "outputs": [],
   "source": [
    "from sklearn.model_selection import train_test_split\n",
    "X_train, X_test, y_train, y_test = train_test_split(X, y_data, test_size = 0.20, random_state=32)"
   ]
  },
  {
   "cell_type": "code",
   "execution_count": 28,
   "id": "a99da78b",
   "metadata": {
    "execution": {
     "iopub.execute_input": "2023-10-24T10:39:21.240140Z",
     "iopub.status.busy": "2023-10-24T10:39:21.239387Z",
     "iopub.status.idle": "2023-10-24T10:39:21.245081Z",
     "shell.execute_reply": "2023-10-24T10:39:21.243832Z"
    },
    "papermill": {
     "duration": 0.020922,
     "end_time": "2023-10-24T10:39:21.247395",
     "exception": false,
     "start_time": "2023-10-24T10:39:21.226473",
     "status": "completed"
    },
    "tags": []
   },
   "outputs": [
    {
     "name": "stdout",
     "output_type": "stream",
     "text": [
      "(3504, 232414)\n",
      "(876, 232414)\n"
     ]
    }
   ],
   "source": [
    "print(X_train.shape)\n",
    "print(X_test.shape)"
   ]
  },
  {
   "cell_type": "code",
   "execution_count": 29,
   "id": "e09692f0",
   "metadata": {
    "execution": {
     "iopub.execute_input": "2023-10-24T10:39:21.273837Z",
     "iopub.status.busy": "2023-10-24T10:39:21.273454Z",
     "iopub.status.idle": "2023-10-24T10:39:21.384699Z",
     "shell.execute_reply": "2023-10-24T10:39:21.383308Z"
    },
    "papermill": {
     "duration": 0.128348,
     "end_time": "2023-10-24T10:39:21.388421",
     "exception": false,
     "start_time": "2023-10-24T10:39:21.260073",
     "status": "completed"
    },
    "tags": []
   },
   "outputs": [],
   "source": [
    "from sklearn.model_selection import cross_val_score\n",
    "\n",
    "from sklearn.metrics import classification_report\n",
    "from sklearn.metrics import confusion_matrix\n",
    "from sklearn.metrics import accuracy_score\n",
    "\n",
    "from sklearn.naive_bayes import MultinomialNB\n",
    "from sklearn import svm\n"
   ]
  },
  {
   "cell_type": "markdown",
   "id": "50f2cc76",
   "metadata": {
    "papermill": {
     "duration": 0.01155,
     "end_time": "2023-10-24T10:39:21.411851",
     "exception": false,
     "start_time": "2023-10-24T10:39:21.400301",
     "status": "completed"
    },
    "tags": []
   },
   "source": [
    "Here we will apply SVMs , A  machine learning algorithm that can be used for both classification and regression tasks. SVMs work by finding a hyperplane in the data that separates the data points into two classes. The hyperplane is a flat surface that divides the data space into two parts.\n",
    "\n"
   ]
  },
  {
   "cell_type": "code",
   "execution_count": 30,
   "id": "b43c0275",
   "metadata": {
    "execution": {
     "iopub.execute_input": "2023-10-24T10:39:21.437255Z",
     "iopub.status.busy": "2023-10-24T10:39:21.436850Z",
     "iopub.status.idle": "2023-10-24T10:43:32.150704Z",
     "shell.execute_reply": "2023-10-24T10:43:32.148890Z"
    },
    "papermill": {
     "duration": 250.742865,
     "end_time": "2023-10-24T10:43:32.166581",
     "exception": false,
     "start_time": "2023-10-24T10:39:21.423716",
     "status": "completed"
    },
    "tags": []
   },
   "outputs": [
    {
     "name": "stdout",
     "output_type": "stream",
     "text": [
      "Accuracy : 0.820\n"
     ]
    }
   ],
   "source": [
    "svm_clf = svm.SVC(kernel='rbf', C=1, random_state=0)\n",
    "svm_clf.fit(X_train,y_train)\n",
    "predicted = svm_clf.predict(X_test)\n",
    "score = svm_clf.score(X_test, y_test)\n",
    "svm_score_ = np.mean(score)\n",
    "\n",
    "print('Accuracy : %.3f' % (svm_score_))"
   ]
  },
  {
   "cell_type": "markdown",
   "id": "09735216",
   "metadata": {
    "papermill": {
     "duration": 0.012169,
     "end_time": "2023-10-24T10:43:32.191359",
     "exception": false,
     "start_time": "2023-10-24T10:43:32.179190",
     "status": "completed"
    },
    "tags": []
   },
   "source": [
    "* Let's make a confusion matrix that summarizes the performance of a classification model. It shows the number of correct predictions and incorrect predictions for each class and calculate the Accuracy, Precision , Recall and F1 score.\n",
    "\n"
   ]
  },
  {
   "cell_type": "code",
   "execution_count": 31,
   "id": "e2b2a3b5",
   "metadata": {
    "execution": {
     "iopub.execute_input": "2023-10-24T10:43:32.218117Z",
     "iopub.status.busy": "2023-10-24T10:43:32.217704Z",
     "iopub.status.idle": "2023-10-24T10:43:32.226194Z",
     "shell.execute_reply": "2023-10-24T10:43:32.225209Z"
    },
    "papermill": {
     "duration": 0.025072,
     "end_time": "2023-10-24T10:43:32.228564",
     "exception": false,
     "start_time": "2023-10-24T10:43:32.203492",
     "status": "completed"
    },
    "tags": []
   },
   "outputs": [],
   "source": [
    "y_true = y_test\n",
    "y_pred = predicted\n",
    "\n",
    "confusion_matrix = confusion_matrix(y_true, y_pred)"
   ]
  },
  {
   "cell_type": "code",
   "execution_count": 32,
   "id": "dbee87eb",
   "metadata": {
    "execution": {
     "iopub.execute_input": "2023-10-24T10:43:32.254373Z",
     "iopub.status.busy": "2023-10-24T10:43:32.253977Z",
     "iopub.status.idle": "2023-10-24T10:43:33.355144Z",
     "shell.execute_reply": "2023-10-24T10:43:33.354018Z"
    },
    "papermill": {
     "duration": 1.117017,
     "end_time": "2023-10-24T10:43:33.357632",
     "exception": false,
     "start_time": "2023-10-24T10:43:32.240615",
     "status": "completed"
    },
    "tags": []
   },
   "outputs": [
    {
     "data": {
      "image/png": "[encoded data removed]",
      "text/plain": [
       "<Figure size 640x480 with 2 Axes>"
      ]
     },
     "metadata": {},
     "output_type": "display_data"
    }
   ],
   "source": [
    "import seaborn as sns\n",
    "\n",
    "sns.heatmap(confusion_matrix, annot=True, fmt='.2f')\n",
    "plt.xlabel('Predicted Class')\n",
    "plt.ylabel('True Class')\n",
    "plt.title('Confusion Matrix')\n",
    "plt.show()"
   ]
  },
  {
   "cell_type": "code",
   "execution_count": 33,
   "id": "d6b3ba58",
   "metadata": {
    "execution": {
     "iopub.execute_input": "2023-10-24T10:43:33.386220Z",
     "iopub.status.busy": "2023-10-24T10:43:33.385818Z",
     "iopub.status.idle": "2023-10-24T10:43:33.401060Z",
     "shell.execute_reply": "2023-10-24T10:43:33.399921Z"
    },
    "papermill": {
     "duration": 0.031954,
     "end_time": "2023-10-24T10:43:33.403484",
     "exception": false,
     "start_time": "2023-10-24T10:43:33.371530",
     "status": "completed"
    },
    "tags": []
   },
   "outputs": [
    {
     "name": "stdout",
     "output_type": "stream",
     "text": [
      "Precision: 0.8888039189608546\n",
      "Recall: 0.819634703196347\n",
      "F1 score: 0.8272322687183075\n"
     ]
    }
   ],
   "source": [
    "from sklearn.metrics import precision_score, recall_score, f1_score\n",
    "\n",
    "\n",
    "def calculate_metrics(y_true, y_pred):\n",
    "  \"\"\"Calculates the precision, recall, and F1 score of a multiclass classification model.\n",
    "\n",
    "  Args:\n",
    "    y_true: The true class labels of the data samples.\n",
    "    y_pred: The predicted class labels of the data samples.\n",
    "\n",
    "  Returns:\n",
    "    A tuple containing the precision, recall, and F1 score of the classification model.\n",
    "  \"\"\"\n",
    "\n",
    "  precision = precision_score(y_true, y_pred, average='weighted')\n",
    "  recall = recall_score(y_true, y_pred, average='weighted')\n",
    "\n",
    "  return precision, recall\n",
    "\n",
    "# Calculate the precision and recall of the classification model.\n",
    "precision, recall = calculate_metrics(y_true, y_pred)\n",
    "\n",
    "# Calculate the F1 score with the weighted averaging setting.\n",
    "f1_score = f1_score(y_true, y_pred, average='weighted')\n",
    "\n",
    "# Print the result.\n",
    "# Print the results.\n",
    "print(\"Precision:\", precision)\n",
    "print(\"Recall:\", recall)\n",
    "print(\"F1 score:\", f1_score)"
   ]
  },
  {
   "cell_type": "markdown",
   "id": "50f4afa7",
   "metadata": {
    "papermill": {
     "duration": 0.012336,
     "end_time": "2023-10-24T10:43:33.428447",
     "exception": false,
     "start_time": "2023-10-24T10:43:33.416111",
     "status": "completed"
    },
    "tags": []
   },
   "source": [
    "* MultinomialNB(alpha=0.1) creates a new multinomial Naive Bayes classifier with the alpha parameter set to 0.1. The alpha parameter controls the amount of smoothing that is applied to the data. Smoothing is a technique that is used to prevent the classifier from overfitting to the training data.\n",
    "\n",
    "* classifier.fit(x_train, y_train) trains the classifier on the training data. The x_train parameter is a NumPy array containing the training data features. The y_train parameter is a NumPy array containing the training data labels.\n",
    "\n",
    "* Once the classifier is trained, it can be used to predict the labels of new data points. To do this, you would use the classifier.predict() method"
   ]
  },
  {
   "cell_type": "code",
   "execution_count": 34,
   "id": "ae6ad9f0",
   "metadata": {
    "execution": {
     "iopub.execute_input": "2023-10-24T10:43:33.455394Z",
     "iopub.status.busy": "2023-10-24T10:43:33.454996Z",
     "iopub.status.idle": "2023-10-24T10:43:33.638714Z",
     "shell.execute_reply": "2023-10-24T10:43:33.637615Z"
    },
    "papermill": {
     "duration": 0.200323,
     "end_time": "2023-10-24T10:43:33.641324",
     "exception": false,
     "start_time": "2023-10-24T10:43:33.441001",
     "status": "completed"
    },
    "tags": []
   },
   "outputs": [
    {
     "data": {
      "text/html": [
       "<style>#sk-container-id-1 {\n",
       "  /* Definition of color scheme common for light and dark mode */\n",
       "  --sklearn-color-text: black;\n",
       "  --sklearn-color-line: gray;\n",
       "  /* Definition of color scheme for unfitted estimators */\n",
       "  --sklearn-color-unfitted-level-0: #fff5e6;\n",
       "  --sklearn-color-unfitted-level-1: #f6e4d2;\n",
       "  --sklearn-color-unfitted-level-2: #ffe0b3;\n",
       "  --sklearn-color-unfitted-level-3: chocolate;\n",
       "  /* Definition of color scheme for fitted estimators */\n",
       "  --sklearn-color-fitted-level-0: #f0f8ff;\n",
       "  --sklearn-color-fitted-level-1: #d4ebff;\n",
       "  --sklearn-color-fitted-level-2: #b3dbfd;\n",
       "  --sklearn-color-fitted-level-3: cornflowerblue;\n",
       "\n",
       "  /* Specific color for light theme */\n",
       "  --sklearn-color-text-on-default-background: var(--sg-text-color, var(--theme-code-foreground, var(--jp-content-font-color1, black)));\n",
       "  --sklearn-color-background: var(--sg-background-color, var(--theme-background, var(--jp-layout-color0, white)));\n",
       "  --sklearn-color-border-box: var(--sg-text-color, var(--theme-code-foreground, var(--jp-content-font-color1, black)));\n",
       "  --sklearn-color-icon: #696969;\n",
       "\n",
       "  @media (prefers-color-scheme: dark) {\n",
       "    /* Redefinition of color scheme for dark theme */\n",
       "    --sklearn-color-text-on-default-background: var(--sg-text-color, var(--theme-code-foreground, var(--jp-content-font-color1, white)));\n",
       "    --sklearn-color-background: var(--sg-background-color, var(--theme-background, var(--jp-layout-color0, #111)));\n",
       "    --sklearn-color-border-box: var(--sg-text-color, var(--theme-code-foreground, var(--jp-content-font-color1, white)));\n",
       "    --sklearn-color-icon: #878787;\n",
       "  }\n",
       "}\n",
       "\n",
       "#sk-container-id-1 {\n",
       "  color: var(--sklearn-color-text);\n",
       "}\n",
       "\n",
       "#sk-container-id-1 pre {\n",
       "  padding: 0;\n",
       "}\n",
       "\n",
       "#sk-container-id-1 input.sk-hidden--visually {\n",
       "  border: 0;\n",
       "  clip: rect(1px 1px 1px 1px);\n",
       "  clip: rect(1px, 1px, 1px, 1px);\n",
       "  height: 1px;\n",
       "  margin: -1px;\n",
       "  overflow: hidden;\n",
       "  padding: 0;\n",
       "  position: absolute;\n",
       "  width: 1px;\n",
       "}\n",
       "\n",
       "#sk-container-id-1 div.sk-dashed-wrapped {\n",
       "  border: 1px dashed var(--sklearn-color-line);\n",
       "  margin: 0 0.4em 0.5em 0.4em;\n",
       "  box-sizing: border-box;\n",
       "  padding-bottom: 0.4em;\n",
       "  background-color: var(--sklearn-color-background);\n",
       "}\n",
       "\n",
       "#sk-container-id-1 div.sk-container {\n",
       "  /* jupyter's `normalize.less` sets `[hidden] { display: none; }`\n",
       "     but bootstrap.min.css set `[hidden] { display: none !important; }`\n",
       "     so we also need the `!important` here to be able to override the\n",
       "     default hidden behavior on the sphinx rendered scikit-learn.org.\n",
       "     See: https://github.com/scikit-learn/scikit-learn/issues/21755 */\n",
       "  display: inline-block !important;\n",
       "  position: relative;\n",
       "}\n",
       "\n",
       "#sk-container-id-1 div.sk-text-repr-fallback {\n",
       "  display: none;\n",
       "}\n",
       "\n",
       "div.sk-parallel-item,\n",
       "div.sk-serial,\n",
       "div.sk-item {\n",
       "  /* draw centered vertical line to link estimators */\n",
       "  background-image: linear-gradient(var(--sklearn-color-text-on-default-background), var(--sklearn-color-text-on-default-background));\n",
       "  background-size: 2px 100%;\n",
       "  background-repeat: no-repeat;\n",
       "  background-position: center center;\n",
       "}\n",
       "\n",
       "/* Parallel-specific style estimator block */\n",
       "\n",
       "#sk-container-id-1 div.sk-parallel-item::after {\n",
       "  content: \"\";\n",
       "  width: 100%;\n",
       "  border-bottom: 2px solid var(--sklearn-color-text-on-default-background);\n",
       "  flex-grow: 1;\n",
       "}\n",
       "\n",
       "#sk-container-id-1 div.sk-parallel {\n",
       "  display: flex;\n",
       "  align-items: stretch;\n",
       "  justify-content: center;\n",
       "  background-color: var(--sklearn-color-background);\n",
       "  position: relative;\n",
       "}\n",
       "\n",
       "#sk-container-id-1 div.sk-parallel-item {\n",
       "  display: flex;\n",
       "  flex-direction: column;\n",
       "}\n",
       "\n",
       "#sk-container-id-1 div.sk-parallel-item:first-child::after {\n",
       "  align-self: flex-end;\n",
       "  width: 50%;\n",
       "}\n",
       "\n",
       "#sk-container-id-1 div.sk-parallel-item:last-child::after {\n",
       "  align-self: flex-start;\n",
       "  width: 50%;\n",
       "}\n",
       "\n",
       "#sk-container-id-1 div.sk-parallel-item:only-child::after {\n",
       "  width: 0;\n",
       "}\n",
       "\n",
       "/* Serial-specific style estimator block */\n",
       "\n",
       "#sk-container-id-1 div.sk-serial {\n",
       "  display: flex;\n",
       "  flex-direction: column;\n",
       "  align-items: center;\n",
       "  background-color: var(--sklearn-color-background);\n",
       "  padding-right: 1em;\n",
       "  padding-left: 1em;\n",
       "}\n",
       "\n",
       "\n",
       "/* Toggleable style: style used for estimator/Pipeline/ColumnTransformer box that is\n",
       "clickable and can be expanded/collapsed.\n",
       "- Pipeline and ColumnTransformer use this feature and define the default style\n",
       "- Estimators will overwrite some part of the style using the `sk-estimator` class\n",
       "*/\n",
       "\n",
       "/* Pipeline and ColumnTransformer style (default) */\n",
       "\n",
       "#sk-container-id-1 div.sk-toggleable {\n",
       "  /* Default theme specific background. It is overwritten whether we have a\n",
       "  specific estimator or a Pipeline/ColumnTransformer */\n",
       "  background-color: var(--sklearn-color-background);\n",
       "}\n",
       "\n",
       "/* Toggleable label */\n",
       "#sk-container-id-1 label.sk-toggleable__label {\n",
       "  cursor: pointer;\n",
       "  display: block;\n",
       "  width: 100%;\n",
       "  margin-bottom: 0;\n",
       "  padding: 0.5em;\n",
       "  box-sizing: border-box;\n",
       "  text-align: center;\n",
       "}\n",
       "\n",
       "#sk-container-id-1 label.sk-toggleable__label-arrow:before {\n",
       "  /* Arrow on the left of the label */\n",
       "  content: \"▸\";\n",
       "  float: left;\n",
       "  margin-right: 0.25em;\n",
       "  color: var(--sklearn-color-icon);\n",
       "}\n",
       "\n",
       "#sk-container-id-1 label.sk-toggleable__label-arrow:hover:before {\n",
       "  color: var(--sklearn-color-text);\n",
       "}\n",
       "\n",
       "/* Toggleable content - dropdown */\n",
       "\n",
       "#sk-container-id-1 div.sk-toggleable__content {\n",
       "  max-height: 0;\n",
       "  max-width: 0;\n",
       "  overflow: hidden;\n",
       "  text-align: left;\n",
       "  /* unfitted */\n",
       "  background-color: var(--sklearn-color-unfitted-level-0);\n",
       "}\n",
       "\n",
       "#sk-container-id-1 div.sk-toggleable__content.fitted {\n",
       "  /* fitted */\n",
       "  background-color: var(--sklearn-color-fitted-level-0);\n",
       "}\n",
       "\n",
       "#sk-container-id-1 div.sk-toggleable__content pre {\n",
       "  margin: 0.2em;\n",
       "  border-radius: 0.25em;\n",
       "  color: var(--sklearn-color-text);\n",
       "  /* unfitted */\n",
       "  background-color: var(--sklearn-color-unfitted-level-0);\n",
       "}\n",
       "\n",
       "#sk-container-id-1 div.sk-toggleable__content.fitted pre {\n",
       "  /* unfitted */\n",
       "  background-color: var(--sklearn-color-fitted-level-0);\n",
       "}\n",
       "\n",
       "#sk-container-id-1 input.sk-toggleable__control:checked~div.sk-toggleable__content {\n",
       "  /* Expand drop-down */\n",
       "  max-height: 200px;\n",
       "  max-width: 100%;\n",
       "  overflow: auto;\n",
       "}\n",
       "\n",
       "#sk-container-id-1 input.sk-toggleable__control:checked~label.sk-toggleable__label-arrow:before {\n",
       "  content: \"▾\";\n",
       "}\n",
       "\n",
       "/* Pipeline/ColumnTransformer-specific style */\n",
       "\n",
       "#sk-container-id-1 div.sk-label input.sk-toggleable__control:checked~label.sk-toggleable__label {\n",
       "  color: var(--sklearn-color-text);\n",
       "  background-color: var(--sklearn-color-unfitted-level-2);\n",
       "}\n",
       "\n",
       "#sk-container-id-1 div.sk-label.fitted input.sk-toggleable__control:checked~label.sk-toggleable__label {\n",
       "  background-color: var(--sklearn-color-fitted-level-2);\n",
       "}\n",
       "\n",
       "/* Estimator-specific style */\n",
       "\n",
       "/* Colorize estimator box */\n",
       "#sk-container-id-1 div.sk-estimator input.sk-toggleable__control:checked~label.sk-toggleable__label {\n",
       "  /* unfitted */\n",
       "  background-color: var(--sklearn-color-unfitted-level-2);\n",
       "}\n",
       "\n",
       "#sk-container-id-1 div.sk-estimator.fitted input.sk-toggleable__control:checked~label.sk-toggleable__label {\n",
       "  /* fitted */\n",
       "  background-color: var(--sklearn-color-fitted-level-2);\n",
       "}\n",
       "\n",
       "#sk-container-id-1 div.sk-label label.sk-toggleable__label,\n",
       "#sk-container-id-1 div.sk-label label {\n",
       "  /* The background is the default theme color */\n",
       "  color: var(--sklearn-color-text-on-default-background);\n",
       "}\n",
       "\n",
       "/* On hover, darken the color of the background */\n",
       "#sk-container-id-1 div.sk-label:hover label.sk-toggleable__label {\n",
       "  color: var(--sklearn-color-text);\n",
       "  background-color: var(--sklearn-color-unfitted-level-2);\n",
       "}\n",
       "\n",
       "/* Label box, darken color on hover, fitted */\n",
       "#sk-container-id-1 div.sk-label.fitted:hover label.sk-toggleable__label.fitted {\n",
       "  color: var(--sklearn-color-text);\n",
       "  background-color: var(--sklearn-color-fitted-level-2);\n",
       "}\n",
       "\n",
       "/* Estimator label */\n",
       "\n",
       "#sk-container-id-1 div.sk-label label {\n",
       "  font-family: monospace;\n",
       "  font-weight: bold;\n",
       "  display: inline-block;\n",
       "  line-height: 1.2em;\n",
       "}\n",
       "\n",
       "#sk-container-id-1 div.sk-label-container {\n",
       "  text-align: center;\n",
       "}\n",
       "\n",
       "/* Estimator-specific */\n",
       "#sk-container-id-1 div.sk-estimator {\n",
       "  font-family: monospace;\n",
       "  border: 1px dotted var(--sklearn-color-border-box);\n",
       "  border-radius: 0.25em;\n",
       "  box-sizing: border-box;\n",
       "  margin-bottom: 0.5em;\n",
       "  /* unfitted */\n",
       "  background-color: var(--sklearn-color-unfitted-level-0);\n",
       "}\n",
       "\n",
       "#sk-container-id-1 div.sk-estimator.fitted {\n",
       "  /* fitted */\n",
       "  background-color: var(--sklearn-color-fitted-level-0);\n",
       "}\n",
       "\n",
       "/* on hover */\n",
       "#sk-container-id-1 div.sk-estimator:hover {\n",
       "  /* unfitted */\n",
       "  background-color: var(--sklearn-color-unfitted-level-2);\n",
       "}\n",
       "\n",
       "#sk-container-id-1 div.sk-estimator.fitted:hover {\n",
       "  /* fitted */\n",
       "  background-color: var(--sklearn-color-fitted-level-2);\n",
       "}\n",
       "\n",
       "/* Specification for estimator info (e.g. \"i\" and \"?\") */\n",
       "\n",
       "/* Common style for \"i\" and \"?\" */\n",
       "\n",
       ".sk-estimator-doc-link,\n",
       "a:link.sk-estimator-doc-link,\n",
       "a:visited.sk-estimator-doc-link {\n",
       "  float: right;\n",
       "  font-size: smaller;\n",
       "  line-height: 1em;\n",
       "  font-family: monospace;\n",
       "  background-color: var(--sklearn-color-background);\n",
       "  border-radius: 1em;\n",
       "  height: 1em;\n",
       "  width: 1em;\n",
       "  text-decoration: none !important;\n",
       "  margin-left: 1ex;\n",
       "  /* unfitted */\n",
       "  border: var(--sklearn-color-unfitted-level-1) 1pt solid;\n",
       "  color: var(--sklearn-color-unfitted-level-1);\n",
       "}\n",
       "\n",
       ".sk-estimator-doc-link.fitted,\n",
       "a:link.sk-estimator-doc-link.fitted,\n",
       "a:visited.sk-estimator-doc-link.fitted {\n",
       "  /* fitted */\n",
       "  border: var(--sklearn-color-fitted-level-1) 1pt solid;\n",
       "  color: var(--sklearn-color-fitted-level-1);\n",
       "}\n",
       "\n",
       "/* On hover */\n",
       "div.sk-estimator:hover .sk-estimator-doc-link:hover,\n",
       ".sk-estimator-doc-link:hover,\n",
       "div.sk-label-container:hover .sk-estimator-doc-link:hover,\n",
       ".sk-estimator-doc-link:hover {\n",
       "  /* unfitted */\n",
       "  background-color: var(--sklearn-color-unfitted-level-3);\n",
       "  color: var(--sklearn-color-background);\n",
       "  text-decoration: none;\n",
       "}\n",
       "\n",
       "div.sk-estimator.fitted:hover .sk-estimator-doc-link.fitted:hover,\n",
       ".sk-estimator-doc-link.fitted:hover,\n",
       "div.sk-label-container:hover .sk-estimator-doc-link.fitted:hover,\n",
       ".sk-estimator-doc-link.fitted:hover {\n",
       "  /* fitted */\n",
       "  background-color: var(--sklearn-color-fitted-level-3);\n",
       "  color: var(--sklearn-color-background);\n",
       "  text-decoration: none;\n",
       "}\n",
       "\n",
       "/* Span, style for the box shown on hovering the info icon */\n",
       ".sk-estimator-doc-link span {\n",
       "  display: none;\n",
       "  z-index: 9999;\n",
       "  position: relative;\n",
       "  font-weight: normal;\n",
       "  right: .2ex;\n",
       "  padding: .5ex;\n",
       "  margin: .5ex;\n",
       "  width: min-content;\n",
       "  min-width: 20ex;\n",
       "  max-width: 50ex;\n",
       "  color: var(--sklearn-color-text);\n",
       "  box-shadow: 2pt 2pt 4pt #999;\n",
       "  /* unfitted */\n",
       "  background: var(--sklearn-color-unfitted-level-0);\n",
       "  border: .5pt solid var(--sklearn-color-unfitted-level-3);\n",
       "}\n",
       "\n",
       ".sk-estimator-doc-link.fitted span {\n",
       "  /* fitted */\n",
       "  background: var(--sklearn-color-fitted-level-0);\n",
       "  border: var(--sklearn-color-fitted-level-3);\n",
       "}\n",
       "\n",
       ".sk-estimator-doc-link:hover span {\n",
       "  display: block;\n",
       "}\n",
       "\n",
       "/* \"?\"-specific style due to the `<a>` HTML tag */\n",
       "\n",
       "#sk-container-id-1 a.estimator_doc_link {\n",
       "  float: right;\n",
       "  font-size: 1rem;\n",
       "  line-height: 1em;\n",
       "  font-family: monospace;\n",
       "  background-color: var(--sklearn-color-background);\n",
       "  border-radius: 1rem;\n",
       "  height: 1rem;\n",
       "  width: 1rem;\n",
       "  text-decoration: none;\n",
       "  /* unfitted */\n",
       "  color: var(--sklearn-color-unfitted-level-1);\n",
       "  border: var(--sklearn-color-unfitted-level-1) 1pt solid;\n",
       "}\n",
       "\n",
       "#sk-container-id-1 a.estimator_doc_link.fitted {\n",
       "  /* fitted */\n",
       "  border: var(--sklearn-color-fitted-level-1) 1pt solid;\n",
       "  color: var(--sklearn-color-fitted-level-1);\n",
       "}\n",
       "\n",
       "/* On hover */\n",
       "#sk-container-id-1 a.estimator_doc_link:hover {\n",
       "  /* unfitted */\n",
       "  background-color: var(--sklearn-color-unfitted-level-3);\n",
       "  color: var(--sklearn-color-background);\n",
       "  text-decoration: none;\n",
       "}\n",
       "\n",
       "#sk-container-id-1 a.estimator_doc_link.fitted:hover {\n",
       "  /* fitted */\n",
       "  background-color: var(--sklearn-color-fitted-level-3);\n",
       "}\n",
       "</style><div id=\"sk-container-id-1\" class=\"sk-top-container\"><div class=\"sk-text-repr-fallback\"><pre>MultinomialNB(alpha=0.1)</pre><b>In a Jupyter environment, please rerun this cell to show the HTML representation or trust the notebook. <br />On GitHub, the HTML representation is unable to render, please try loading this page with nbviewer.org.</b></div><div class=\"sk-container\" hidden><div class=\"sk-item\"><div class=\"sk-estimator fitted sk-toggleable\"><input class=\"sk-toggleable__control sk-hidden--visually\" id=\"sk-estimator-id-1\" type=\"checkbox\" checked><label for=\"sk-estimator-id-1\" class=\"sk-toggleable__label fitted sk-toggleable__label-arrow fitted\">&nbsp;&nbsp;MultinomialNB<a class=\"sk-estimator-doc-link fitted\" rel=\"noreferrer\" target=\"_blank\" href=\"https://scikit-learn.org/1.4/modules/generated/sklearn.naive_bayes.MultinomialNB.html\">?<span>Documentation for MultinomialNB</span></a><span class=\"sk-estimator-doc-link fitted\">i<span>Fitted</span></span></label><div class=\"sk-toggleable__content fitted\"><pre>MultinomialNB(alpha=0.1)</pre></div> </div></div></div></div>"
      ],
      "text/plain": [
       "MultinomialNB(alpha=0.1)"
      ]
     },
     "execution_count": 34,
     "metadata": {},
     "output_type": "execute_result"
    }
   ],
   "source": [
    "classifier = MultinomialNB(alpha=0.1)\n",
    "classifier.fit(X_train, y_train)"
   ]
  },
  {
   "cell_type": "markdown",
   "id": "e36b7149",
   "metadata": {
    "papermill": {
     "duration": 0.012892,
     "end_time": "2023-10-24T10:43:33.668193",
     "exception": false,
     "start_time": "2023-10-24T10:43:33.655301",
     "status": "completed"
    },
    "tags": []
   },
   "source": [
    "  "
   ]
  },
  {
   "cell_type": "code",
   "execution_count": 35,
   "id": "2e03a43a",
   "metadata": {
    "execution": {
     "iopub.execute_input": "2023-10-24T10:43:33.696279Z",
     "iopub.status.busy": "2023-10-24T10:43:33.695872Z",
     "iopub.status.idle": "2023-10-24T10:43:33.726483Z",
     "shell.execute_reply": "2023-10-24T10:43:33.725276Z"
    },
    "papermill": {
     "duration": 0.047786,
     "end_time": "2023-10-24T10:43:33.729006",
     "exception": false,
     "start_time": "2023-10-24T10:43:33.681220",
     "status": "completed"
    },
    "tags": []
   },
   "outputs": [],
   "source": [
    "predicted = classifier.predict(X_test)"
   ]
  },
  {
   "cell_type": "code",
   "execution_count": 36,
   "id": "cf96bbb2",
   "metadata": {
    "execution": {
     "iopub.execute_input": "2023-10-24T10:43:33.758223Z",
     "iopub.status.busy": "2023-10-24T10:43:33.757810Z",
     "iopub.status.idle": "2023-10-24T10:43:33.788040Z",
     "shell.execute_reply": "2023-10-24T10:43:33.786850Z"
    },
    "papermill": {
     "duration": 0.047884,
     "end_time": "2023-10-24T10:43:33.790630",
     "exception": false,
     "start_time": "2023-10-24T10:43:33.742746",
     "status": "completed"
    },
    "tags": []
   },
   "outputs": [],
   "source": [
    "y_pred2 = classifier.predict(X_test)"
   ]
  },
  {
   "cell_type": "code",
   "execution_count": 37,
   "id": "fac1b7e0",
   "metadata": {
    "execution": {
     "iopub.execute_input": "2023-10-24T10:43:33.819476Z",
     "iopub.status.busy": "2023-10-24T10:43:33.819064Z",
     "iopub.status.idle": "2023-10-24T10:43:33.844572Z",
     "shell.execute_reply": "2023-10-24T10:43:33.843388Z"
    },
    "papermill": {
     "duration": 0.043236,
     "end_time": "2023-10-24T10:43:33.846906",
     "exception": false,
     "start_time": "2023-10-24T10:43:33.803670",
     "status": "completed"
    },
    "tags": []
   },
   "outputs": [
    {
     "name": "stdout",
     "output_type": "stream",
     "text": [
      "Confusion matrix\n",
      "\n",
      "Predicted    0    1   2    3    4   5    6\n",
      "Actual                                    \n",
      "0          114    0   0    0    0   0    2\n",
      "1            0  112   0    0    0   0    1\n",
      "2            0    0  67    0    0   0    2\n",
      "3            0    0   0  128    1   0    1\n",
      "4            4    0   0    0  136   0    5\n",
      "5            7    0   0    0    0  41    1\n",
      "6            0    0   0    1    0   1  252\n"
     ]
    }
   ],
   "source": [
    "\n",
    "# Print the confusion matrix.\n",
    "print(\"Confusion matrix\\n\")\n",
    "print(pd.crosstab(pd.Series(y_test, name='Actual'), pd.Series(y_pred2, name='Predicted')))\n"
   ]
  }
 ],
 "metadata": {
  "kernelspec": {
   "display_name": "Python 3",
   "language": "python",
   "name": "python3"
  },
  "language_info": {
   "codemirror_mode": {
    "name": "ipython",
    "version": 3
   },
   "file_extension": ".py",
   "mimetype": "text/x-python",
   "name": "python",
   "nbconvert_exporter": "python",
   "pygments_lexer": "ipython3",
   "version": "3.11.9"
  },
  "papermill": {
   "default_parameters": {},
   "duration": 284.218009,
   "end_time": "2023-10-24T10:43:34.882202",
   "environment_variables": {},
   "exception": null,
   "input_path": "__notebook__.ipynb",
   "output_path": "__notebook__.ipynb",
   "parameters": {},
   "start_time": "2023-10-24T10:38:50.664193",
   "version": "2.4.0"
  }
 },
 "nbformat": 4,
 "nbformat_minor": 5
}
